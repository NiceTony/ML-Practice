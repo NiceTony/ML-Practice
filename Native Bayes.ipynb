{
 "cells": [
  {
   "cell_type": "markdown",
   "metadata": {},
   "source": [
    "## Day 2: Native Bayes\n",
    "Step 1: 准备数据，从文本中构建词向量"
   ]
  },
  {
   "cell_type": "code",
   "execution_count": null,
   "metadata": {
    "collapsed": false
   },
   "outputs": [],
   "source": [
    "def loadDataSet():\n",
    "    postingList=[['my', 'dog', 'has', 'flea', 'problems', 'help', 'please'],\n",
    "                 ['maybe', 'not', 'take', 'him', 'to', 'dog', 'park', 'stupid'],\n",
    "                 ['my', 'dalmation', 'is', 'so', 'cute', 'I', 'love', 'him'],\n",
    "                 ['stop', 'posting', 'stupid', 'worthless', 'garbage'],\n",
    "                 ['mr', 'licks', 'ate', 'my', 'steak', 'how', 'to', 'stop', 'him'],\n",
    "                 ['quit', 'buying', 'worthless', 'dog', 'food', 'stupid']]\n",
    "    classVec = [0,1,0,1,0,1]    #1 is abusive, 0 not\n",
    "    return postingList,classVec\n",
    "\n",
    "def createVocabList(dataset):\n",
    "    # 创建一个空的集合 http://www.iplaypy.com/jichu/set.html\n",
    "    vocabSet = set([])\n",
    "    for document in dataset:\n",
    "        vocabSet = vocabSet | set(document)\n",
    "    return list(vocabSet)\n",
    "\n",
    "# 词集模型，单词出现的次数不作为特征，只考察是否出现\n",
    "def setOfWords2Vec(vocabList, inputSet):\n",
    "    # 创建一个其中所有元素都是0的向量\n",
    "    returnVec = [0]*len(vocabList)\n",
    "    for word in inputSet:\n",
    "        if word in vocabList:\n",
    "            returnVec[vocabList.index(word)] = 1\n",
    "        else:\n",
    "            print (\"the word %s is not in my vocabulary!\" % word)\n",
    "    return returnVec\n",
    "\n",
    "# 词袋模型，一个单词的出现的次数被考虑进来\n",
    "def bagOfWords2Vec(vocabList, inputSet):\n",
    "    # 创建一个其中所有元素都是0的向量\n",
    "    returnVec = [0]*len(vocabList)\n",
    "    for word in inputSet:\n",
    "        if word in vocabList:\n",
    "            returnVec[vocabList.index(word)] += 1\n",
    "        else:\n",
    "            print (\"the word %s is not in my vocabulary!\" % word)\n",
    "    return returnVec\n",
    "\n",
    "# func test\n",
    "listOposts, listClasses = loadDataSet()\n",
    "myVocabList = createVocabList(listOposts)\n",
    "returnVec = setOfWords2Vec(myVocabList, listOposts[0])"
   ]
  },
  {
   "cell_type": "markdown",
   "metadata": {},
   "source": [
    "Step 2: 训练算法，从词向量计算概率\n",
    "\n",
    "Step 3: 测试算法，根据现实情况修改分类器（注释掉的即使修改过的代码）"
   ]
  },
  {
   "cell_type": "code",
   "execution_count": 26,
   "metadata": {
    "collapsed": false
   },
   "outputs": [
    {
     "data": {
      "text/plain": [
       "1"
      ]
     },
     "execution_count": 26,
     "metadata": {},
     "output_type": "execute_result"
    }
   ],
   "source": [
    "from numpy import * # 调用NumPy数组\n",
    "def trainNB0(trainMatrix, trainCategory):\n",
    "    numTrainDocs = len(trainMatrix)\n",
    "    numWords = len(trainMatrix[0])\n",
    "    pAbusive = sum(trainCategory)/float(numTrainDocs)\n",
    "#     p0Num = zeros(numWords)\n",
    "#     p1Num = zeros(numWords)\n",
    "#     p0Denom = 0.0\n",
    "#     p1Denom = 0.0\n",
    "    # 此时修改是因为需要算，概率乘积，其中有一个为0，结果便是0，所以，将所有单词都初始化为1\n",
    "    p0Num = ones(numWords)\n",
    "    p1Num = ones(numWords)\n",
    "    p0Denom = 2.0\n",
    "    p1Denom = 2.0\n",
    "    # 用NumPy数组来快速计算这些值\n",
    "    for i in range(numTrainDocs):\n",
    "        if trainCategory[i] == 0:\n",
    "            p0Num += trainMatrix[i]\n",
    "            p0Denom += sum(trainMatrix[i])\n",
    "        else:\n",
    "            p1Num += trainMatrix[i]\n",
    "            p1Denom += sum(trainMatrix[i])\n",
    "#     p1Vect = p1Num/p1Denom\n",
    "#     p0Vect = p0Num/p0Denom\n",
    "    # 下溢出，很多很小的数，相乘会下溢出，所以，可以用取自然对数后，转变为加法\n",
    "    p1Vect = log(p1Num/p1Denom)\n",
    "    p0Vect = log(p0Num/p0Denom)\n",
    "    return p0Vect,p1Vect, pAbusive\n",
    "\n",
    "# func test\n",
    "trainMat = []\n",
    "for i in range(len(listClasses)):\n",
    "    trainMat.append(setOfWords2Vec(myVocabList, listOposts[i]))\n",
    "    \n",
    "p0V,p1V, pAb = trainNB0(trainMat, listClasses)\n",
    "\n",
    "# 朴素贝叶斯分类函数\n",
    "def classifyNB(vec2Classify, p0Vec, p1Vec, pClass1):\n",
    "    p1 = sum(vec2Classify*p1Vec) + log(pClass1)\n",
    "    p0 = sum(vec2Classify*p0Vec) + log(1-pClass1)\n",
    "    if p1 > p0:\n",
    "        return 1\n",
    "    else:\n",
    "        return 0\n",
    "\n",
    "# func test\n",
    "testEntry = ['stupid', 'garbage']\n",
    "thisDoc = array(setOfWords2Vec(myVocabList, testEntry))\n",
    "classifyNB(thisDoc, p0V,p1V, pAb)"
   ]
  }
 ],
 "metadata": {
  "anaconda-cloud": {},
  "kernelspec": {
   "display_name": "Python [default]",
   "language": "python",
   "name": "python3"
  },
  "language_info": {
   "codemirror_mode": {
    "name": "ipython",
    "version": 3
   },
   "file_extension": ".py",
   "mimetype": "text/x-python",
   "name": "python",
   "nbconvert_exporter": "python",
   "pygments_lexer": "ipython3",
   "version": "3.5.2"
  }
 },
 "nbformat": 4,
 "nbformat_minor": 1
}
