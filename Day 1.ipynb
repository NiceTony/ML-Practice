{
 "cells": [
  {
   "cell_type": "markdown",
   "metadata": {},
   "source": [
    "## 第一章 机器学习基础\n"
   ]
  },
  {
   "cell_type": "code",
   "execution_count": null,
   "metadata": {
    "collapsed": false
   },
   "outputs": [],
   "source": [
    "# 引入NumPy函数库中所有的模块\n",
    "from numpy import *\n",
    "random.rand(4, 4)"
   ]
  },
  {
   "cell_type": "code",
   "execution_count": null,
   "metadata": {
    "collapsed": false
   },
   "outputs": [],
   "source": [
    "randMat = mat(random.rand(4, 4))\n",
    "# 矩阵的逆\n",
    "invrandMat = randMat.I"
   ]
  },
  {
   "cell_type": "code",
   "execution_count": null,
   "metadata": {
    "collapsed": false
   },
   "outputs": [],
   "source": [
    "# 矩阵和逆矩阵相乘，应该是单位矩阵，\n",
    "# 产生的微小误差，是由于计算机处理误差产生的结果\n",
    "invrandMat*randMat"
   ]
  },
  {
   "cell_type": "code",
   "execution_count": null,
   "metadata": {
    "collapsed": false
   },
   "outputs": [],
   "source": [
    "myEye = invrandMat*randMat\n",
    "# eye(i)，创建i阶单位矩阵，此处未误差。\n",
    "myEye- eye(4)"
   ]
  },
  {
   "cell_type": "markdown",
   "metadata": {},
   "source": [
    "## 第二章 k-近邻算法"
   ]
  },
  {
   "cell_type": "markdown",
   "metadata": {},
   "source": [
    "### 2.1.2"
   ]
  },
  {
   "cell_type": "code",
   "execution_count": 8,
   "metadata": {
    "collapsed": false
   },
   "outputs": [
    {
     "data": {
      "text/plain": [
       "4"
      ]
     },
     "execution_count": 8,
     "metadata": {},
     "output_type": "execute_result"
    }
   ],
   "source": [
    "# 准备数据\n",
    "from numpy import *\n",
    "# 运算符模块，KNN执行排序操作时，将使用这个模块提供的函数\n",
    "import operator\n",
    "\n",
    "def createDataset():\n",
    "    group = array([[1.0, 1.1], [1.0, 1.0], [0, 0], [0, 0.1]])\n",
    "    labels = ['A', 'A', 'B', 'B']\n",
    "    return group, labels\n",
    "group, labels = createDataset()"
   ]
  },
  {
   "cell_type": "code",
   "execution_count": 15,
   "metadata": {
    "collapsed": false
   },
   "outputs": [
    {
     "data": {
      "text/plain": [
       "'A'"
      ]
     },
     "execution_count": 15,
     "metadata": {},
     "output_type": "execute_result"
    }
   ],
   "source": [
    "def classify0(inX, dataSet, labels, k):\n",
    "    dataSetSize = dataSet.shape[0]\n",
    "    # http://blog.csdn.net/april_newnew/article/details/44176059\n",
    "    # tile(A, reps), reps代表A在各个维度上重复的次数\n",
    "    # A = [1, 2]\n",
    "    # tile(A, (3, 2)) = [[1,2,1,2，1,2], [1,2,1,2,1,2]] \n",
    "    diffMat = tile(inX, (dataSetSize, 1)) - dataSet\n",
    "    # **就是乘方的意思，[1, 2]**2 = [1, 4]\n",
    "    sqDiffMat = diffMat**2\n",
    "    # http://blog.csdn.net/ikerpeng/article/details/17026011\n",
    "    # .sum(axis=1)就是将一个矩阵的每一个行向量相加，平时默认的是axis=0\n",
    "    # [[0,1,2],[2,1,3]].sum(axis=1) = [3, 6]\n",
    "    sqDistances = sqDiffMat.sum(axis=1)\n",
    "    distances = sqDistances**0.5\n",
    "    \n",
    "    # http://blog.csdn.net/maoersong/article/details/21875705\n",
    "    # argsort(a, axis=-1, kind='quicksort', order=None)\n",
    "    # Returns the indices that would sort an array.\n",
    "    # [3, 1, 2].argsort() = [1, 2, 0]\n",
    "    # axis=0，代表按列排序，axis=1，代表按行排序\n",
    "    sortedDistIndices = distances.argsort()\n",
    "    classCount = {}\n",
    "    # http://www.cnblogs.com/buro79xxd/archive/2011/05/23/2054493.html\n",
    "    # range(1, 2) = [1, 2]\n",
    "    # range(2) = [0, 1]\n",
    "    for i in range(k):\n",
    "        votelabel = labels[sortedDistIndices[i]]\n",
    "        # http://www.yiibai.com/python/python_dict_get.html\n",
    "        # dict.get(key, default=None)\n",
    "        # python字典 get()方法; 返回一个给定的key对应的值。如果key是没有用的，然后返回默认值None返回。\n",
    "        classCount[votelabel] = classCount.get(votelabel, 0) + 1\n",
    "    # http://www.cnblogs.com/100thMountain/p/4719502.html\n",
    "    # {}.iteritems 以迭代器对象，返回键值对\n",
    "    # http://stackoverflow.com/questions/30418481/error-dict-object-has-no-attribute-iteritems-when-trying-to-use-networkx\n",
    "    # 在python 3.0中iteritems已经被移除，用items来代替，\n",
    "    # Removed dict.iteritems(), dict.iterkeys(), and dict.itervalues().\n",
    "    # Instead: use dict.items(), dict.keys(), and dict.values() respectively.\n",
    "    # http://www.cnblogs.com/100thMountain/p/4719503.html\n",
    "    # operator.itemgetter(i)用于获得对象i维的数据\n",
    "    sortedClassCount = sorted(classCount.items(), key=operator.itemgetter(1), reverse=True)\n",
    "    return sortedClassCount[0][0]\n",
    "classify0([0, 0], group, labels, 3)\n",
    "    "
   ]
  }
 ],
 "metadata": {
  "anaconda-cloud": {},
  "kernelspec": {
   "display_name": "Python [conda root]",
   "language": "python",
   "name": "conda-root-py"
  },
  "language_info": {
   "codemirror_mode": {
    "name": "ipython",
    "version": 3
   },
   "file_extension": ".py",
   "mimetype": "text/x-python",
   "name": "python",
   "nbconvert_exporter": "python",
   "pygments_lexer": "ipython3",
   "version": "3.5.2"
  }
 },
 "nbformat": 4,
 "nbformat_minor": 1
}
